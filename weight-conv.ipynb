{
 "cells": [
  {
   "cell_type": "code",
   "execution_count": 6,
   "metadata": {},
   "outputs": [],
   "source": [
    "from collections import OrderedDict\n",
    "import torch\n",
    "from torch import nn\n",
    "import torch.nn.functional as F\n",
    "import torch.utils.model_zoo as model_zoo\n",
    "from base import BaseModel\n",
    "import numpy as np\n",
    "from xml.etree import ElementTree\n",
    "from PIL import Image\n",
    "import matplotlib.pyplot as plt"
   ]
  },
  {
   "cell_type": "code",
   "execution_count": 7,
   "metadata": {},
   "outputs": [],
   "source": [
    "class GlobalAvgPool2d(nn.Module):\n",
    "    def __init__(self):\n",
    "        super(GlobalAvgPool2d, self).__init__()\n",
    "\n",
    "    def forward(self, x):\n",
    "        N = x.data.size(0)\n",
    "        C = x.data.size(1)\n",
    "        H = x.data.size(2)\n",
    "        W = x.data.size(3)\n",
    "        x = F.avg_pool2d(x, (H, W))\n",
    "        x = x.view(N, C)\n",
    "        return x"
   ]
  },
  {
   "cell_type": "code",
   "execution_count": 8,
   "metadata": {},
   "outputs": [],
   "source": [
    "class Darknet19(BaseModel):\n",
    "    def __init__(self, pretrained=True):\n",
    "        super(Darknet19, self).__init__()\n",
    "\n",
    "        self.features = nn.Sequential(OrderedDict([\n",
    "        ('layer1', nn.Sequential(OrderedDict([\n",
    "            ('conv1_1', nn.Conv2d(3, 32, kernel_size=3, stride=1, padding=1, bias=False)),\n",
    "            ('bn1_1', nn.BatchNorm2d(32)),\n",
    "            ('leaky1_1', nn.LeakyReLU(0.1, inplace=True)),\n",
    "            ('maxpool1', nn.MaxPool2d(kernel_size=2, stride=2))\n",
    "        ]))),\n",
    "        ('layer2', nn.Sequential(OrderedDict([\n",
    "            ('conv2_1', nn.Conv2d(32, 64, kernel_size=3, stride=1, padding=1, bias=False)),\n",
    "            ('bn2_1', nn.BatchNorm2d(64)),\n",
    "            ('leaky2_1', nn.LeakyReLU(0.1, inplace=True)),\n",
    "            ('maxpool2', nn.MaxPool2d(kernel_size=2, stride=2))\n",
    "        ]))),\n",
    "        ('layer3', nn.Sequential(OrderedDict([\n",
    "            ('conv3_1', nn.Conv2d(64, 128, kernel_size=3, stride=1, padding=1, bias=False)),\n",
    "            ('bn3_1', nn.BatchNorm2d(128)),\n",
    "            ('leaky3_1', nn.LeakyReLU(0.1, inplace=True)),\n",
    "            ('conv3_2', nn.Conv2d(128, 64, kernel_size=1, stride=1, padding=0, bias=False)),\n",
    "            ('bn3_2', nn.BatchNorm2d(64)),\n",
    "            ('leaky3_2', nn.LeakyReLU(0.1, inplace=True)),\n",
    "            ('conv3_3', nn.Conv2d(64, 128, kernel_size=3, stride=1, padding=1, bias=False)),\n",
    "            ('bn3_3', nn.BatchNorm2d(128)),\n",
    "            ('leaky3_3', nn.LeakyReLU(0.1, inplace=True)),\n",
    "            ('maxpool3', nn.MaxPool2d(kernel_size=2, stride=2))\n",
    "        ]))),\n",
    "        ('layer4', nn.Sequential(OrderedDict([\n",
    "            ('conv4_1', nn.Conv2d(128, 256, kernel_size=3, stride=1, padding=1, bias=False)),\n",
    "            ('bn4_1', nn.BatchNorm2d(256)),\n",
    "            ('leaky4_1', nn.LeakyReLU(0.1, inplace=True)),\n",
    "            ('conv4_2', nn.Conv2d(256, 128, kernel_size=1, stride=1, padding=0, bias=False)),\n",
    "            ('bn4_2', nn.BatchNorm2d(128)),\n",
    "            ('leaky4_2', nn.LeakyReLU(0.1, inplace=True)),\n",
    "            ('conv4_3', nn.Conv2d(128, 256, kernel_size=3, stride=1, padding=1, bias=False)),\n",
    "            ('bn4_3', nn.BatchNorm2d(256)),\n",
    "            ('leaky4_3', nn.LeakyReLU(0.1, inplace=True)),\n",
    "            ('maxpool4', nn.MaxPool2d(kernel_size=2, stride=2))\n",
    "        ]))),\n",
    "        ('layer5', nn.Sequential(OrderedDict([\n",
    "            ('conv5_1', nn.Conv2d(256, 512, kernel_size=3, stride=1, padding=1, bias=False)),\n",
    "            ('bn5_1', nn.BatchNorm2d(512)),\n",
    "            ('leaky5_1', nn.LeakyReLU(0.1, inplace=True)),\n",
    "            ('conv5_2', nn.Conv2d(512, 256, kernel_size=1, stride=1, padding=0, bias=False)),\n",
    "            ('bn5_2', nn.BatchNorm2d(256)),\n",
    "            ('leaky5_2', nn.LeakyReLU(0.1, inplace=True)),\n",
    "            ('conv5_3', nn.Conv2d(256, 512, kernel_size=3, stride=1, padding=1, bias=False)),\n",
    "            ('bn5_3', nn.BatchNorm2d(512)),\n",
    "            ('leaky5_3', nn.LeakyReLU(0.1, inplace=True)),\n",
    "            ('conv5_4', nn.Conv2d(512, 256, kernel_size=1, stride=1, padding=1, bias=False)),\n",
    "            ('bn5_4', nn.BatchNorm2d(256)),\n",
    "            ('leaky5_4', nn.LeakyReLU(0.1, inplace=True)),\n",
    "            ('conv5_5', nn.Conv2d(256, 512, kernel_size=3, stride=1, padding=1, bias=False)),\n",
    "            ('bn5_5', nn.BatchNorm2d(512)),\n",
    "            ('leaky5_5', nn.LeakyReLU(0.1, inplace=True)),\n",
    "            ('maxpool5', nn.MaxPool2d(kernel_size=2, stride=2))\n",
    "        ]))),\n",
    "        ('layer6', nn.Sequential(OrderedDict([\n",
    "            ('conv6_1', nn.Conv2d(512, 1024, kernel_size=3, stride=1, padding=1, bias=False)),\n",
    "            ('bn6_1', nn.BatchNorm2d(1024)),\n",
    "            ('leaky6_1', nn.LeakyReLU(0.1, inplace=True)),\n",
    "            ('conv6_2', nn.Conv2d(1024, 512, kernel_size=1, stride=1, padding=0, bias=False)),\n",
    "            ('bn6_2', nn.BatchNorm2d(512)),\n",
    "            ('leaky6_2', nn.LeakyReLU(0.1, inplace=True)),\n",
    "            ('conv6_3', nn.Conv2d(512, 1024, kernel_size=3, stride=1, padding=1, bias=False)),\n",
    "            ('bn6_3', nn.BatchNorm2d(1024)),\n",
    "            ('leaky6_3', nn.LeakyReLU(0.1, inplace=True)),\n",
    "            ('conv6_4', nn.Conv2d(1024, 512, kernel_size=1, stride=1, padding=1, bias=False)),\n",
    "            ('bn6_4', nn.BatchNorm2d(512)),\n",
    "            ('leaky6_4', nn.LeakyReLU(0.1, inplace=True)),\n",
    "            ('conv6_5', nn.Conv2d(512, 1024, kernel_size=3, stride=1, padding=1, bias=False)),\n",
    "            ('bn6_5', nn.BatchNorm2d(1024)),\n",
    "            ('leaky6_5', nn.LeakyReLU(0.1, inplace=True))\n",
    "        ])))\n",
    "        ]))\n",
    "\n",
    "        self.classifier = nn.Sequential(OrderedDict([\n",
    "        ('classifier', nn.Sequential(OrderedDict([\n",
    "        ('conv7_1', nn.Conv2d(1024, 1000, kernel_size=(1, 1), stride=(1, 1))),\n",
    "        ('globalavgpool', GlobalAvgPool2d()),\n",
    "        ('softmax', nn.Softmax(dim=1))\n",
    "        ])))]))\n",
    "\n",
    "        if pretrained:\n",
    "            # self.load_state_dict(model_zoo.load_url(model_paths['darknet19'],  progress=True))\n",
    "            self.load_weight()\n",
    "            print('Model is loaded')\n",
    "\n",
    "    def forward(self, x):\n",
    "        out = self.features(x)\n",
    "        out = self.classifier(out)\n",
    "        return out\n",
    "    def load_weight(self):\n",
    "        weight_file = 'weights/darknet19-deepBakSu-e1b3ec1e.pth'\n",
    "        assert len(torch.load(weight_file).keys()) == len(self.state_dict().keys())\n",
    "        dic = {}\n",
    "        for now_keys, values in zip(self.state_dict().keys(), torch.load(weight_file).values()):\n",
    "            dic[now_keys]=values\n",
    "        self.load_state_dict(dic)\n",
    "        print('Weights are loaded!')"
   ]
  },
  {
   "cell_type": "code",
   "execution_count": 9,
   "metadata": {
    "tags": []
   },
   "outputs": [
    {
     "output_type": "stream",
     "name": "stdout",
     "text": "Weights are loaded!\nModel is loaded\n"
    }
   ],
   "source": [
    "model = Darknet19(True)\n",
    "model = model.eval()"
   ]
  },
  {
   "cell_type": "code",
   "execution_count": 10,
   "metadata": {},
   "outputs": [],
   "source": [
    "input_tensor = torch.FloatTensor(np.array([1.0] * 224 * 224 * 3))\n",
    "input_tensor = input_tensor.reshape([1, 3, 224, 224])"
   ]
  },
  {
   "cell_type": "code",
   "execution_count": 11,
   "metadata": {},
   "outputs": [],
   "source": [
    "idx = 0\n",
    "def get_output(layer, eval = True) :\n",
    "    if eval:\n",
    "        layer = layer.eval()\n",
    "    global input_tensor, idx\n",
    "    input_tensor = layer(input_tensor)\n",
    "    idx += 1\n",
    "    print(\"Output of layer \", idx, \" : \", input_tensor.sum())"
   ]
  },
  {
   "cell_type": "code",
   "execution_count": 12,
   "metadata": {},
   "outputs": [],
   "source": [
    "def reset():\n",
    "    global input_tensor, idx\n",
    "    input_tensor = torch.FloatTensor(np.array([1.0] * 224 * 224 * 3))\n",
    "    input_tensor = input_tensor.reshape([1, 3, 224, 224])\n",
    "    idx = 0"
   ]
  },
  {
   "cell_type": "code",
   "execution_count": 13,
   "metadata": {
    "tags": []
   },
   "outputs": [
    {
     "output_type": "stream",
     "name": "stdout",
     "text": "Output of layer  1  :  tensor(-39838.8086, grad_fn=<SumBackward0>)\nOutput of layer  2  :  tensor(-3260192., grad_fn=<SumBackward0>)\nOutput of layer  3  :  tensor(816813.1250, grad_fn=<SumBackward0>)\nOutput of layer  4  :  tensor(216611.4688, grad_fn=<SumBackward0>)\n"
    }
   ],
   "source": [
    "model = model.eval()\n",
    "reset()\n",
    "for layer in model.features[0]:\n",
    "    get_output(layer)"
   ]
  },
  {
   "cell_type": "code",
   "execution_count": 14,
   "metadata": {
    "tags": []
   },
   "outputs": [
    {
     "output_type": "stream",
     "name": "stdout",
     "text": "Output of layer  1  :  tensor(-39838.8086, grad_fn=<SumBackward0>)\nOutput of layer  2  :  tensor(-3260192., grad_fn=<SumBackward0>)\nOutput of layer  3  :  tensor(816813.1250, grad_fn=<SumBackward0>)\nOutput of layer  4  :  tensor(216611.4688, grad_fn=<SumBackward0>)\n"
    }
   ],
   "source": [
    "model = model.eval()\n",
    "reset()\n",
    "for layer in model.features[0]:\n",
    "    get_output(layer)"
   ]
  },
  {
   "cell_type": "code",
   "execution_count": 15,
   "metadata": {
    "tags": []
   },
   "outputs": [
    {
     "output_type": "stream",
     "name": "stdout",
     "text": "Output of layer  5  :  tensor(-248550.6250, grad_fn=<SumBackward0>)\nOutput of layer  6  :  tensor(147896.6094, grad_fn=<SumBackward0>)\nOutput of layer  7  :  tensor(619941., grad_fn=<SumBackward0>)\nOutput of layer  8  :  tensor(164179.2031, grad_fn=<SumBackward0>)\n"
    }
   ],
   "source": [
    "model = model.eval()\n",
    "for layer in model.features[1]:\n",
    "    get_output(layer)"
   ]
  },
  {
   "cell_type": "code",
   "execution_count": 16,
   "metadata": {
    "tags": []
   },
   "outputs": [
    {
     "output_type": "stream",
     "name": "stdout",
     "text": "Output of layer  9  :  tensor(-146027.7344, grad_fn=<SumBackward0>)\nOutput of layer  10  :  tensor(88665.1016, grad_fn=<SumBackward0>)\nOutput of layer  11  :  tensor(255238.5312, grad_fn=<SumBackward0>)\nOutput of layer  12  :  tensor(-30494.3613, grad_fn=<SumBackward0>)\nOutput of layer  13  :  tensor(46894.4727, grad_fn=<SumBackward0>)\nOutput of layer  14  :  tensor(187059.7500, grad_fn=<SumBackward0>)\nOutput of layer  15  :  tensor(-133359.8750, grad_fn=<SumBackward0>)\nOutput of layer  16  :  tensor(-305293.2188, grad_fn=<SumBackward0>)\nOutput of layer  17  :  tensor(23133.1074, grad_fn=<SumBackward0>)\nOutput of layer  18  :  tensor(8483.1250, grad_fn=<SumBackward0>)\n"
    }
   ],
   "source": [
    "model = model.eval()\n",
    "for layer in model.features[2]:\n",
    "    get_output(layer)"
   ]
  },
  {
   "cell_type": "code",
   "execution_count": 17,
   "metadata": {
    "tags": []
   },
   "outputs": [
    {
     "output_type": "stream",
     "name": "stdout",
     "text": "Output of layer  19  :  tensor(-25217., grad_fn=<SumBackward0>)\nOutput of layer  20  :  tensor(-90406.0938, grad_fn=<SumBackward0>)\nOutput of layer  21  :  tensor(53217.3828, grad_fn=<SumBackward0>)\nOutput of layer  22  :  tensor(-11441.3535, grad_fn=<SumBackward0>)\nOutput of layer  23  :  tensor(-10056.9932, grad_fn=<SumBackward0>)\nOutput of layer  24  :  tensor(54672.6250, grad_fn=<SumBackward0>)\nOutput of layer  25  :  tensor(-181565.1250, grad_fn=<SumBackward0>)\nOutput of layer  26  :  tensor(-399055.4688, grad_fn=<SumBackward0>)\nOutput of layer  27  :  tensor(-30219.5000, grad_fn=<SumBackward0>)\nOutput of layer  28  :  tensor(-6255.7974, grad_fn=<SumBackward0>)\n"
    }
   ],
   "source": [
    "model = model.eval()\n",
    "for layer in model.features[3]:\n",
    "    get_output(layer)"
   ]
  },
  {
   "cell_type": "code",
   "execution_count": 18,
   "metadata": {
    "tags": []
   },
   "outputs": [
    {
     "output_type": "stream",
     "name": "stdout",
     "text": "Output of layer  29  :  tensor(-8978.9277, grad_fn=<SumBackward0>)\nOutput of layer  30  :  tensor(-91405.1172, grad_fn=<SumBackward0>)\nOutput of layer  31  :  tensor(924.0886, grad_fn=<SumBackward0>)\nOutput of layer  32  :  tensor(-435.5790, grad_fn=<SumBackward0>)\nOutput of layer  33  :  tensor(-22883.8809, grad_fn=<SumBackward0>)\nOutput of layer  34  :  tensor(10422.3750, grad_fn=<SumBackward0>)\nOutput of layer  35  :  tensor(-18061.9473, grad_fn=<SumBackward0>)\nOutput of layer  36  :  tensor(-31303.4258, grad_fn=<SumBackward0>)\nOutput of layer  37  :  tensor(20105.5391, grad_fn=<SumBackward0>)\nOutput of layer  38  :  tensor(-11858.4180, grad_fn=<SumBackward0>)\nOutput of layer  39  :  tensor(-21867.9277, grad_fn=<SumBackward0>)\nOutput of layer  40  :  tensor(17077.5664, grad_fn=<SumBackward0>)\nOutput of layer  41  :  tensor(-34578.3711, grad_fn=<SumBackward0>)\nOutput of layer  42  :  tensor(-185575.1562, grad_fn=<SumBackward0>)\nOutput of layer  43  :  tensor(-14384.5020, grad_fn=<SumBackward0>)\nOutput of layer  44  :  tensor(-1198.3817, grad_fn=<SumBackward0>)\n"
    }
   ],
   "source": [
    "model = model.eval()\n",
    "for layer in model.features[4]:\n",
    "    get_output(layer)"
   ]
  },
  {
   "cell_type": "code",
   "execution_count": 19,
   "metadata": {
    "tags": []
   },
   "outputs": [
    {
     "output_type": "stream",
     "name": "stdout",
     "text": "Output of layer  45  :  tensor(-1740.2012, grad_fn=<SumBackward0>)\nOutput of layer  46  :  tensor(-57422.6250, grad_fn=<SumBackward0>)\nOutput of layer  47  :  tensor(-3817.9036, grad_fn=<SumBackward0>)\nOutput of layer  48  :  tensor(3776.1975, grad_fn=<SumBackward0>)\nOutput of layer  49  :  tensor(-17405.7832, grad_fn=<SumBackward0>)\nOutput of layer  50  :  tensor(784.8477, grad_fn=<SumBackward0>)\nOutput of layer  51  :  tensor(-5934.9399, grad_fn=<SumBackward0>)\nOutput of layer  52  :  tensor(-51272.7969, grad_fn=<SumBackward0>)\nOutput of layer  53  :  tensor(-3034.4202, grad_fn=<SumBackward0>)\nOutput of layer  54  :  tensor(3262.7397, grad_fn=<SumBackward0>)\nOutput of layer  55  :  tensor(-43840.2773, grad_fn=<SumBackward0>)\nOutput of layer  56  :  tensor(-523.1497, grad_fn=<SumBackward0>)\nOutput of layer  57  :  tensor(206.3079, grad_fn=<SumBackward0>)\nOutput of layer  58  :  tensor(-298738.4062, grad_fn=<SumBackward0>)\nOutput of layer  59  :  tensor(-491.2022, grad_fn=<SumBackward0>)\n"
    }
   ],
   "source": [
    "model = model.eval()\n",
    "for layer in model.features[5]:\n",
    "    get_output(layer)"
   ]
  },
  {
   "cell_type": "code",
   "execution_count": 20,
   "metadata": {
    "tags": []
   },
   "outputs": [
    {
     "output_type": "stream",
     "name": "stdout",
     "text": "Output of layer  60  :  tensor(0.3704, grad_fn=<SumBackward0>)\nOutput of layer  61  :  tensor(0.0037, grad_fn=<SumBackward0>)\nOutput of layer  62  :  tensor(1.0000, grad_fn=<SumBackward0>)\n"
    }
   ],
   "source": [
    "model = model.eval()\n",
    "for layer in model.classifier[0]:\n",
    "    get_output(layer)"
   ]
  },
  {
   "cell_type": "code",
   "execution_count": 21,
   "metadata": {},
   "outputs": [
    {
     "output_type": "execute_result",
     "data": {
      "text/plain": "tensor(521)"
     },
     "metadata": {},
     "execution_count": 21
    }
   ],
   "source": [
    "input_tensor.argmax()"
   ]
  },
  {
   "cell_type": "code",
   "execution_count": 22,
   "metadata": {},
   "outputs": [
    {
     "output_type": "execute_result",
     "data": {
      "text/plain": "tensor(521)"
     },
     "metadata": {},
     "execution_count": 22
    }
   ],
   "source": [
    "reset()\n",
    "model = model.eval()\n",
    "model(input_tensor).sum()\n",
    "torch.argmax(model(input_tensor))"
   ]
  },
  {
   "cell_type": "code",
   "execution_count": 23,
   "metadata": {},
   "outputs": [],
   "source": [
    "from torchvision import transforms\n",
    "mat = []"
   ]
  },
  {
   "cell_type": "code",
   "execution_count": 25,
   "metadata": {
    "tags": []
   },
   "outputs": [
    {
     "output_type": "stream",
     "name": "stdout",
     "text": "n03394916\ntensor(347)  ----> tensor(0.0746, grad_fn=<SelectBackward>)  --->  ILSVRC2012_val_00003759.png ------> tensor(68339.8203)\ntensor(347)  ----> tensor(0.0765, grad_fn=<SelectBackward>)  --->  ILSVRC2012_val_00005548.png ------> tensor(25738.9199)\ntensor(347)  ----> tensor(0.2213, grad_fn=<SelectBackward>)  --->  ILSVRC2012_val_00007985.png ------> tensor(46697.1094)\ntensor(347)  ----> tensor(0.5003, grad_fn=<SelectBackward>)  --->  ILSVRC2012_val_00007155.png ------> tensor(25416.3613)\ntensor(346)  ----> tensor(0.8670, grad_fn=<SelectBackward>)  --->  ILSVRC2012_val_00005554.png ------> tensor(19992.7109)\ntensor(346)  ----> tensor(0.1369, grad_fn=<SelectBackward>)  --->  ILSVRC2012_val_00000957.png ------> tensor(25532.3027)\ntensor(348)  ----> tensor(0.1855, grad_fn=<SelectBackward>)  --->  ILSVRC2012_val_00003587.png ------> tensor(68653.9297)\ntensor(347)  ----> tensor(0.0933, grad_fn=<SelectBackward>)  --->  ILSVRC2012_val_00007536.png ------> tensor(34702.4531)\nn03417042\ntensor(279)  ----> tensor(0.2752, grad_fn=<SelectBackward>)  --->  ILSVRC2012_val_00006234.png ------> tensor(70846.1562)\ntensor(279)  ----> tensor(0.8304, grad_fn=<SelectBackward>)  --->  ILSVRC2012_val_00007477.png ------> tensor(56817.3164)\ntensor(279)  ----> tensor(0.1602, grad_fn=<SelectBackward>)  --->  ILSVRC2012_val_00002434.png ------> tensor(86127.0391)\ntensor(279)  ----> tensor(0.2053, grad_fn=<SelectBackward>)  --->  ILSVRC2012_val_00004119.png ------> tensor(67453.3125)\ntensor(279)  ----> tensor(0.8943, grad_fn=<SelectBackward>)  --->  ILSVRC2012_val_00005744.png ------> tensor(40716.9531)\ntensor(279)  ----> tensor(0.7993, grad_fn=<SelectBackward>)  --->  ILSVRC2012_val_00007519.png ------> tensor(97504.8203)\ntensor(279)  ----> tensor(0.3131, grad_fn=<SelectBackward>)  --->  ILSVRC2012_val_00001144.png ------> tensor(80293.3594)\ntensor(282)  ----> tensor(0.0663, grad_fn=<SelectBackward>)  --->  ILSVRC2012_val_00005094.png ------> tensor(72900.7188)\nn03445777\ntensor(791)  ----> tensor(0.8087, grad_fn=<SelectBackward>)  --->  ILSVRC2012_val_00011983.png ------> tensor(20079.3555)\ntensor(791)  ----> tensor(0.7990, grad_fn=<SelectBackward>)  --->  ILSVRC2012_val_00012356.png ------> tensor(90457.7188)\ntensor(791)  ----> tensor(0.3548, grad_fn=<SelectBackward>)  --->  ILSVRC2012_val_00007947.png ------> tensor(60117.6250)\ntensor(914)  ----> tensor(0.0346, grad_fn=<SelectBackward>)  --->  ILSVRC2012_val_00006468.png ------> tensor(97427.3516)\ntensor(840)  ----> tensor(0.0732, grad_fn=<SelectBackward>)  --->  ILSVRC2012_val_00008599.png ------> tensor(46901.8984)\ntensor(791)  ----> tensor(0.8671, grad_fn=<SelectBackward>)  --->  ILSVRC2012_val_00002314.png ------> tensor(56558.8320)\ntensor(791)  ----> tensor(0.8825, grad_fn=<SelectBackward>)  --->  ILSVRC2012_val_00003793.png ------> tensor(95533.5078)\nn02102040\ntensor(4)  ----> tensor(0.2756, grad_fn=<SelectBackward>)  --->  ILSVRC2012_val_00001968.png ------> tensor(49349.4062)\ntensor(4)  ----> tensor(0.2433, grad_fn=<SelectBackward>)  --->  ILSVRC2012_val_00002294.png ------> tensor(48657.7344)\ntensor(4)  ----> tensor(0.4541, grad_fn=<SelectBackward>)  --->  ILSVRC2012_val_00004553.png ------> tensor(81548.3203)\ntensor(4)  ----> tensor(0.5489, grad_fn=<SelectBackward>)  --->  ILSVRC2012_val_00008334.png ------> tensor(64591.5469)\ntensor(4)  ----> tensor(0.2953, grad_fn=<SelectBackward>)  --->  ILSVRC2012_val_00007568.png ------> tensor(52404.4570)\ntensor(4)  ----> tensor(0.3071, grad_fn=<SelectBackward>)  --->  ILSVRC2012_val_00000665.png ------> tensor(65291.7422)\ntensor(4)  ----> tensor(0.1746, grad_fn=<SelectBackward>)  --->  ILSVRC2012_val_00004548.png ------> tensor(58458.6836)\ntensor(4)  ----> tensor(0.8463, grad_fn=<SelectBackward>)  --->  ILSVRC2012_val_00002315.png ------> tensor(72393.3672)\nn03425413\ntensor(566)  ----> tensor(0.2144, grad_fn=<SelectBackward>)  --->  ILSVRC2012_val_00006434.png ------> tensor(31865.3535)\ntensor(566)  ----> tensor(0.2636, grad_fn=<SelectBackward>)  --->  ILSVRC2012_val_00005996.png ------> tensor(78534.6172)\ntensor(566)  ----> tensor(0.3134, grad_fn=<SelectBackward>)  --->  ILSVRC2012_val_00006909.png ------> tensor(73664.6094)\ntensor(566)  ----> tensor(0.4400, grad_fn=<SelectBackward>)  --->  ILSVRC2012_val_00007186.png ------> tensor(75351.3984)\ntensor(566)  ----> tensor(0.3817, grad_fn=<SelectBackward>)  --->  ILSVRC2012_val_00005183.png ------> tensor(70892.2500)\ntensor(566)  ----> tensor(0.0712, grad_fn=<SelectBackward>)  --->  ILSVRC2012_val_00009279.png ------> tensor(55519.4180)\ntensor(566)  ----> tensor(0.1180, grad_fn=<SelectBackward>)  --->  ILSVRC2012_val_00002049.png ------> tensor(65487.6875)\ntensor(566)  ----> tensor(0.1863, grad_fn=<SelectBackward>)  --->  ILSVRC2012_val_00002498.png ------> tensor(51524.0938)\nn03888257\ntensor(941)  ----> tensor(0.3518, grad_fn=<SelectBackward>)  --->  ILSVRC2012_val_00002508.png ------> tensor(93312.0469)\ntensor(941)  ----> tensor(0.1520, grad_fn=<SelectBackward>)  --->  ILSVRC2012_val_00004745.png ------> tensor(105004.2031)\ntensor(941)  ----> tensor(0.6148, grad_fn=<SelectBackward>)  --->  ILSVRC2012_val_00007616.png ------> tensor(83262.8516)\ntensor(561)  ----> tensor(0.1964, grad_fn=<SelectBackward>)  --->  ILSVRC2012_val_00009559.png ------> tensor(114944.2656)\ntensor(564)  ----> tensor(0.1386, grad_fn=<SelectBackward>)  --->  ILSVRC2012_val_00009593.png ------> tensor(74154.4297)\ntensor(941)  ----> tensor(0.8803, grad_fn=<SelectBackward>)  --->  ILSVRC2012_val_00009873.png ------> tensor(84641.3125)\ntensor(941)  ----> tensor(0.2058, grad_fn=<SelectBackward>)  --->  ILSVRC2012_val_00002665.png ------> tensor(91215.2031)\ntensor(711)  ----> tensor(0.0669, grad_fn=<SelectBackward>)  --->  ILSVRC2012_val_00009269.png ------> tensor(68692.8281)\nn03028079\ntensor(700)  ----> tensor(0.2040, grad_fn=<SelectBackward>)  --->  ILSVRC2012_val_00014037.png ------> tensor(32365.4375)\ntensor(689)  ----> tensor(0.5967, grad_fn=<SelectBackward>)  --->  ILSVRC2012_val_00009705.png ------> tensor(33312.3008)\ntensor(689)  ----> tensor(0.4085, grad_fn=<SelectBackward>)  --->  ILSVRC2012_val_00004939.png ------> tensor(57548.2383)\ntensor(689)  ----> tensor(0.0942, grad_fn=<SelectBackward>)  --->  ILSVRC2012_val_00006268.png ------> tensor(55612.4141)\ntensor(689)  ----> tensor(0.2184, grad_fn=<SelectBackward>)  --->  ILSVRC2012_val_00005598.png ------> tensor(82403.7031)\ntensor(689)  ----> tensor(0.2616, grad_fn=<SelectBackward>)  --->  ILSVRC2012_val_00015155.png ------> tensor(69203.3203)\ntensor(690)  ----> tensor(0.1211, grad_fn=<SelectBackward>)  --->  ILSVRC2012_val_00008116.png ------> tensor(48304.7266)\ntensor(689)  ----> tensor(0.1527, grad_fn=<SelectBackward>)  --->  ILSVRC2012_val_00005295.png ------> tensor(52686.9141)\nn03000684\ntensor(921)  ----> tensor(0.0351, grad_fn=<SelectBackward>)  --->  ILSVRC2012_val_00006578.png ------> tensor(62739.9336)\ntensor(579)  ----> tensor(0.0756, grad_fn=<SelectBackward>)  --->  ILSVRC2012_val_00004034.png ------> tensor(58789.3711)\ntensor(381)  ----> tensor(0.9450, grad_fn=<SelectBackward>)  --->  ILSVRC2012_val_00000537.png ------> tensor(33931.0156)\ntensor(381)  ----> tensor(0.2440, grad_fn=<SelectBackward>)  --->  ILSVRC2012_val_00005506.png ------> tensor(106346.4531)\ntensor(381)  ----> tensor(0.1928, grad_fn=<SelectBackward>)  --->  ILSVRC2012_val_00006726.png ------> tensor(72118.3125)\ntensor(254)  ----> tensor(0.0262, grad_fn=<SelectBackward>)  --->  ILSVRC2012_val_00009206.png ------> tensor(71358.9375)\ntensor(921)  ----> tensor(0.1183, grad_fn=<SelectBackward>)  --->  ILSVRC2012_val_00006043.png ------> tensor(70351.6328)\ntensor(381)  ----> tensor(0.8317, grad_fn=<SelectBackward>)  --->  ILSVRC2012_val_00006669.png ------> tensor(117735.0859)\nn01440764\ntensor(991)  ----> tensor(0.0433, grad_fn=<SelectBackward>)  --->  ILSVRC2012_val_00003014.png ------> tensor(60614.0352)\ntensor(488)  ----> tensor(0.0583, grad_fn=<SelectBackward>)  --->  ILSVRC2012_val_00000293.png ------> tensor(75931.4375)\ntensor(448)  ----> tensor(0.6762, grad_fn=<SelectBackward>)  --->  ILSVRC2012_val_00006697.png ------> tensor(54051.1250)\ntensor(448)  ----> tensor(0.1585, grad_fn=<SelectBackward>)  --->  ILSVRC2012_val_00009346.png ------> tensor(63854.3828)\ntensor(448)  ----> tensor(0.2016, grad_fn=<SelectBackward>)  --->  ILSVRC2012_val_00007197.png ------> tensor(64716.4180)\ntensor(448)  ----> tensor(0.1487, grad_fn=<SelectBackward>)  --->  ILSVRC2012_val_00009379.png ------> tensor(59967.7266)\ntensor(448)  ----> tensor(0.4716, grad_fn=<SelectBackward>)  --->  ILSVRC2012_val_00009396.png ------> tensor(95792.0156)\ntensor(569)  ----> tensor(0.1182, grad_fn=<SelectBackward>)  --->  ILSVRC2012_val_00002138.png ------> tensor(51615.7656)\nn02979186\ntensor(986)  ----> tensor(0.1486, grad_fn=<SelectBackward>)  --->  ILSVRC2012_val_00003944.png ------> tensor(60155.7266)\ntensor(862)  ----> tensor(0.1350, grad_fn=<SelectBackward>)  --->  ILSVRC2012_val_00009833.png ------> tensor(89986.2500)\ntensor(889)  ----> tensor(0.3040, grad_fn=<SelectBackward>)  --->  ILSVRC2012_val_00000557.png ------> tensor(60346.7969)\ntensor(928)  ----> tensor(0.1544, grad_fn=<SelectBackward>)  --->  ILSVRC2012_val_00009404.png ------> tensor(107644.9766)\ntensor(977)  ----> tensor(0.4082, grad_fn=<SelectBackward>)  --->  ILSVRC2012_val_00002034.png ------> tensor(80150.)\ntensor(977)  ----> tensor(0.2932, grad_fn=<SelectBackward>)  --->  ILSVRC2012_val_00007226.png ------> tensor(96157.5391)\ntensor(928)  ----> tensor(0.1664, grad_fn=<SelectBackward>)  --->  ILSVRC2012_val_00005866.png ------> tensor(122680.0391)\n"
    }
   ],
   "source": [
    "from torchvision import transforms\n",
    "from PIL import Image \n",
    "model.eval()\n",
    "classes = os.listdir(\"../imagenette_new\")\n",
    "for folder in classes :\n",
    "    if not os.path.isdir(\"../imagenette_new/\" + folder):\n",
    "        continue\n",
    "    print(folder)\n",
    "    images = os.listdir(\"../imagenette_new/\" + folder)\n",
    "    for image in images:\n",
    "        train_transforms = transforms.Compose([transforms.ToTensor()])\n",
    "        img = Image.open(\"../imagenette_new/\" + folder + \"/\" + image)\n",
    "        img = train_transforms(img)\n",
    "        temp = img\n",
    "        img = img.unsqueeze(0)\n",
    "\n",
    "        index = torch.argmax(model(img))\n",
    "        print(index, \" ---->\", model(img)[0][index], \" ---> \", image, \"------>\" ,img.sum())\n",
    "        \"\"\"\n",
    "        reverse_transform = transforms.ToPILImage()\n",
    "        temp = reverse_transform(temp)\n",
    "        base_dest_path = \"../imagenette_new/\"\n",
    "        if not os.path.exists(base_dest_path) :\n",
    "            os.mkdir(base_dest_path)\n",
    "        dest_folder = folder\n",
    "        if not os.path.exists(base_dest_path + folder) :\n",
    "            os.mkdir(base_dest_path + folder)\n",
    "        image_path = base_dest_path + folder + \"/\" + image\n",
    "        temp.save(image_path)\n",
    "        mat.append(img.numpy().ravel())\n",
    "        \"\"\""
   ]
  },
  {
   "cell_type": "code",
   "execution_count": 28,
   "metadata": {},
   "outputs": [],
   "source": [
    "img_path = \"../imagenette_new/n01440764/ILSVRC2012_val_00002138.png\"\n",
    "img = Image.open(img_path)\n",
    "img_np = np.asarray(img, dtype=np.uint8)"
   ]
  },
  {
   "cell_type": "code",
   "execution_count": 45,
   "metadata": {
    "tags": []
   },
   "outputs": [
    {
     "output_type": "stream",
     "name": "stdout",
     "text": "[0.49411765 0.43137255 0.18039216 0.15294118 0.42352942 0.59607846\n 0.85882354 0.7137255  0.21568628 0.09019608 0.08627451 0.08627451\n 0.09411765 0.10980392 0.13725491 0.14509805 0.24705882 0.07843138\n 0.23529412 0.48235294 0.34117648]\n"
    },
    {
     "output_type": "execute_result",
     "data": {
      "text/plain": "tensor(569)"
     },
     "metadata": {},
     "execution_count": 45
    }
   ],
   "source": [
    "img_norm = img_np / 255.0\n",
    "img_norm.sum()\n",
    "img_tensor = torch.FloatTensor(img_norm)\n",
    "img_tensor = img_tensor.transpose(0, 1).transpose(0, 2).contiguous()\n",
    "img_tensor = img_tensor.unsqueeze(0)\n",
    "print(img_tensor.numpy().ravel()[0:21])\n",
    "model(img_tensor).argmax()"
   ]
  },
  {
   "cell_type": "code",
   "execution_count": 27,
   "metadata": {},
   "outputs": [],
   "source": [
    "np.savetxt(\"../imagenette_image.csv\", mat, delimiter=',')"
   ]
  },
  {
   "cell_type": "code",
   "execution_count": 30,
   "metadata": {
    "tags": []
   },
   "outputs": [],
   "source": [
    "test_image = Image.open(\"../imagenette_new/n03394916/ILSVRC2012_val_00003759.jpg\")"
   ]
  },
  {
   "cell_type": "code",
   "execution_count": 32,
   "metadata": {},
   "outputs": [
    {
     "output_type": "execute_result",
     "data": {
      "text/plain": "68326.38823529413"
     },
     "metadata": {},
     "execution_count": 32
    }
   ],
   "source": [
    "test_image = test_image.resize((224, 224))\n",
    "test_image_matrix = np.asarray(test_image, dtype = np.uint8)\n",
    "test_image_matrix = test_image_matrix / 255\n",
    "test_image_matrix.sum()"
   ]
  },
  {
   "cell_type": "code",
   "execution_count": 22,
   "metadata": {},
   "outputs": [
    {
     "output_type": "execute_result",
     "data": {
      "text/plain": "tensor(75931.4141)"
     },
     "metadata": {},
     "execution_count": 22
    }
   ],
   "source": [
    "(test_tensor.float().div(255)).sum()"
   ]
  },
  {
   "cell_type": "code",
   "execution_count": 27,
   "metadata": {},
   "outputs": [
    {
     "output_type": "execute_result",
     "data": {
      "text/plain": "75931.41960784313"
     },
     "metadata": {},
     "execution_count": 27
    }
   ],
   "source": [
    "(np.asarray((test_image)) / 255).sum()"
   ]
  },
  {
   "cell_type": "code",
   "execution_count": 28,
   "metadata": {},
   "outputs": [
    {
     "output_type": "execute_result",
     "data": {
      "text/plain": "tensor(75931.4375)"
     },
     "metadata": {},
     "execution_count": 28
    }
   ],
   "source": [
    "transforms.ToTensor()(test_image).sum()"
   ]
  },
  {
   "cell_type": "code",
   "execution_count": 136,
   "metadata": {
    "tags": []
   },
   "outputs": [
    {
     "output_type": "stream",
     "name": "stdout",
     "text": "n03394916\nn03417042\nn03445777\nn02102040\nn03425413\nn03888257\nn03028079\nn03000684\nn01440764\nn02979186\n"
    }
   ],
   "source": [
    "from torchvision import transforms\n",
    "from PIL import Image \n",
    "model.eval()\n",
    "classes = os.listdir(\"../imagenette-test\")\n",
    "for folder in classes :\n",
    "    print(folder)\n",
    "    images = os.listdir(\"../imagenette-test/\" + folder)\n",
    "    for image in images:\n",
    "        train_transforms = transforms.Compose([transforms.Resize(224)])\n",
    "        img = Image.open(\"../imagenette-test/\" + folder + \"/\" + image)\n",
    "        img = train_transforms(img)\n",
    "        base_dest_path = \"../imagenette_new/\"\n",
    "        if not os.path.exists(base_dest_path) :\n",
    "            os.mkdir(base_dest_path)\n",
    "        dest_folder = folder\n",
    "        if not os.path.exists(base_dest_path + folder) :\n",
    "            os.mkdir(base_dest_path + folder)\n",
    "        image_path = base_dest_path + folder + \"/\" + image[:-4] + \".png\"\n",
    "        img.save(image_path, \"PNG\")"
   ]
  },
  {
   "cell_type": "code",
   "execution_count": null,
   "metadata": {},
   "outputs": [],
   "source": []
  },
  {
   "cell_type": "code",
   "execution_count": 38,
   "metadata": {},
   "outputs": [
    {
     "output_type": "execute_result",
     "data": {
      "text/plain": "(320, 320, 3)"
     },
     "metadata": {},
     "execution_count": 38
    }
   ],
   "source": [
    "test_image_matrix.shape"
   ]
  },
  {
   "cell_type": "code",
   "execution_count": 142,
   "metadata": {
    "tags": []
   },
   "outputs": [
    {
     "output_type": "stream",
     "name": "stdout",
     "text": "n03394916\ntensor(921)  ----> tensor(0.0718, grad_fn=<SelectBackward>)  --->  ILSVRC2012_val_00003759.jpg ------> tensor(68326.4688)\ntensor(347)  ----> tensor(0.0746, grad_fn=<SelectBackward>)  --->  ILSVRC2012_val_00003759.png ------> tensor(68339.8203)\ntensor(347)  ----> tensor(0.0765, grad_fn=<SelectBackward>)  --->  ILSVRC2012_val_00005548.png ------> tensor(25738.9199)\ntensor(347)  ----> tensor(0.0610, grad_fn=<SelectBackward>)  --->  ILSVRC2012_val_00005548.jpg ------> tensor(25834.2227)\ntensor(347)  ----> tensor(0.2213, grad_fn=<SelectBackward>)  --->  ILSVRC2012_val_00007985.png ------> tensor(46697.1094)\ntensor(347)  ----> tensor(0.1094, grad_fn=<SelectBackward>)  --->  ILSVRC2012_val_00007985.jpg ------> tensor(46698.8281)\ntensor(346)  ----> tensor(0.8628, grad_fn=<SelectBackward>)  --->  ILSVRC2012_val_00005554.jpg ------> tensor(20014.7852)\ntensor(347)  ----> tensor(0.5003, grad_fn=<SelectBackward>)  --->  ILSVRC2012_val_00007155.png ------> tensor(25416.3613)\ntensor(347)  ----> tensor(0.4447, grad_fn=<SelectBackward>)  --->  ILSVRC2012_val_00007155.jpg ------> tensor(25569.2051)\ntensor(346)  ----> tensor(0.8670, grad_fn=<SelectBackward>)  --->  ILSVRC2012_val_00005554.png ------> tensor(19992.7109)\ntensor(346)  ----> tensor(0.1369, grad_fn=<SelectBackward>)  --->  ILSVRC2012_val_00000957.png ------> tensor(25532.3027)\ntensor(902)  ----> tensor(0.0794, grad_fn=<SelectBackward>)  --->  ILSVRC2012_val_00000957.jpg ------> tensor(25610.5449)\ntensor(348)  ----> tensor(0.2144, grad_fn=<SelectBackward>)  --->  ILSVRC2012_val_00003587.jpg ------> tensor(68614.2266)\ntensor(348)  ----> tensor(0.1855, grad_fn=<SelectBackward>)  --->  ILSVRC2012_val_00003587.png ------> tensor(68653.9297)\ntensor(351)  ----> tensor(0.0423, grad_fn=<SelectBackward>)  --->  ILSVRC2012_val_00007536.jpg ------> tensor(34723.5508)\ntensor(347)  ----> tensor(0.0933, grad_fn=<SelectBackward>)  --->  ILSVRC2012_val_00007536.png ------> tensor(34702.4531)\nn03417042\ntensor(279)  ----> tensor(0.1939, grad_fn=<SelectBackward>)  --->  ILSVRC2012_val_00006234.jpg ------> tensor(70829.2812)\ntensor(279)  ----> tensor(0.2752, grad_fn=<SelectBackward>)  --->  ILSVRC2012_val_00006234.png ------> tensor(70846.1562)\ntensor(279)  ----> tensor(0.8304, grad_fn=<SelectBackward>)  --->  ILSVRC2012_val_00007477.png ------> tensor(56817.3164)\ntensor(279)  ----> tensor(0.7226, grad_fn=<SelectBackward>)  --->  ILSVRC2012_val_00007477.jpg ------> tensor(56831.3164)\ntensor(279)  ----> tensor(0.1602, grad_fn=<SelectBackward>)  --->  ILSVRC2012_val_00002434.png ------> tensor(86127.0391)\ntensor(279)  ----> tensor(0.1243, grad_fn=<SelectBackward>)  --->  ILSVRC2012_val_00002434.jpg ------> tensor(86125.2344)\ntensor(279)  ----> tensor(0.1939, grad_fn=<SelectBackward>)  --->  ILSVRC2012_val_00004119.jpg ------> tensor(67458.0078)\ntensor(279)  ----> tensor(0.2053, grad_fn=<SelectBackward>)  --->  ILSVRC2012_val_00004119.png ------> tensor(67453.3125)\ntensor(279)  ----> tensor(0.8943, grad_fn=<SelectBackward>)  --->  ILSVRC2012_val_00005744.png ------> tensor(40716.9531)\ntensor(279)  ----> tensor(0.8678, grad_fn=<SelectBackward>)  --->  ILSVRC2012_val_00005744.jpg ------> tensor(40751.8789)\ntensor(279)  ----> tensor(0.7993, grad_fn=<SelectBackward>)  --->  ILSVRC2012_val_00007519.png ------> tensor(97504.8203)\ntensor(279)  ----> tensor(0.7930, grad_fn=<SelectBackward>)  --->  ILSVRC2012_val_00007519.jpg ------> tensor(97509.9531)\ntensor(279)  ----> tensor(0.2848, grad_fn=<SelectBackward>)  --->  ILSVRC2012_val_00001144.jpg ------> tensor(80307.0859)\ntensor(279)  ----> tensor(0.3131, grad_fn=<SelectBackward>)  --->  ILSVRC2012_val_00001144.png ------> tensor(80293.3594)\ntensor(282)  ----> tensor(0.1147, grad_fn=<SelectBackward>)  --->  ILSVRC2012_val_00005094.jpg ------> tensor(72916.6484)\ntensor(282)  ----> tensor(0.0663, grad_fn=<SelectBackward>)  --->  ILSVRC2012_val_00005094.png ------> tensor(72900.7188)\nn03445777\ntensor(791)  ----> tensor(0.8087, grad_fn=<SelectBackward>)  --->  ILSVRC2012_val_00011983.png ------> tensor(20079.3555)\ntensor(791)  ----> tensor(0.7144, grad_fn=<SelectBackward>)  --->  ILSVRC2012_val_00011983.jpg ------> tensor(20141.1328)\ntensor(791)  ----> tensor(0.7990, grad_fn=<SelectBackward>)  --->  ILSVRC2012_val_00012356.png ------> tensor(90457.7188)\ntensor(791)  ----> tensor(0.7383, grad_fn=<SelectBackward>)  --->  ILSVRC2012_val_00012356.jpg ------> tensor(90469.7891)\ntensor(791)  ----> tensor(0.2925, grad_fn=<SelectBackward>)  --->  ILSVRC2012_val_00007947.jpg ------> tensor(60124.8477)\ntensor(791)  ----> tensor(0.3548, grad_fn=<SelectBackward>)  --->  ILSVRC2012_val_00007947.png ------> tensor(60117.6250)\ntensor(914)  ----> tensor(0.0346, grad_fn=<SelectBackward>)  --->  ILSVRC2012_val_00006468.png ------> tensor(97427.3516)\ntensor(791)  ----> tensor(0.0344, grad_fn=<SelectBackward>)  --->  ILSVRC2012_val_00006468.jpg ------> tensor(97428.3438)\ntensor(840)  ----> tensor(0.0732, grad_fn=<SelectBackward>)  --->  ILSVRC2012_val_00008599.png ------> tensor(46901.8984)\ntensor(840)  ----> tensor(0.0969, grad_fn=<SelectBackward>)  --->  ILSVRC2012_val_00008599.jpg ------> tensor(46905.2031)\ntensor(791)  ----> tensor(0.9534, grad_fn=<SelectBackward>)  --->  ILSVRC2012_val_00003793.jpg ------> tensor(95535.7266)\ntensor(791)  ----> tensor(0.9190, grad_fn=<SelectBackward>)  --->  ILSVRC2012_val_00002314.jpg ------> tensor(56603.6250)\ntensor(791)  ----> tensor(0.8671, grad_fn=<SelectBackward>)  --->  ILSVRC2012_val_00002314.png ------> tensor(56558.8320)\ntensor(791)  ----> tensor(0.8825, grad_fn=<SelectBackward>)  --->  ILSVRC2012_val_00003793.png ------> tensor(95533.5078)\nn02102040\ntensor(4)  ----> tensor(0.1750, grad_fn=<SelectBackward>)  --->  ILSVRC2012_val_00001968.jpg ------> tensor(49390.1914)\ntensor(4)  ----> tensor(0.2756, grad_fn=<SelectBackward>)  --->  ILSVRC2012_val_00001968.png ------> tensor(49349.4062)\ntensor(4)  ----> tensor(0.2709, grad_fn=<SelectBackward>)  --->  ILSVRC2012_val_00002294.jpg ------> tensor(48662.2109)\ntensor(4)  ----> tensor(0.2433, grad_fn=<SelectBackward>)  --->  ILSVRC2012_val_00002294.png ------> tensor(48657.7344)\ntensor(4)  ----> tensor(0.3622, grad_fn=<SelectBackward>)  --->  ILSVRC2012_val_00004553.jpg ------> tensor(81546.1406)\ntensor(4)  ----> tensor(0.4541, grad_fn=<SelectBackward>)  --->  ILSVRC2012_val_00004553.png ------> tensor(81548.3203)\ntensor(4)  ----> tensor(0.5489, grad_fn=<SelectBackward>)  --->  ILSVRC2012_val_00008334.png ------> tensor(64591.5469)\ntensor(4)  ----> tensor(0.4353, grad_fn=<SelectBackward>)  --->  ILSVRC2012_val_00008334.jpg ------> tensor(64599.3086)\ntensor(4)  ----> tensor(0.2953, grad_fn=<SelectBackward>)  --->  ILSVRC2012_val_00007568.png ------> tensor(52404.4570)\ntensor(4)  ----> tensor(0.2657, grad_fn=<SelectBackward>)  --->  ILSVRC2012_val_00007568.jpg ------> tensor(52431.7578)\ntensor(4)  ----> tensor(0.3071, grad_fn=<SelectBackward>)  --->  ILSVRC2012_val_00000665.png ------> tensor(65291.7422)\ntensor(4)  ----> tensor(0.2232, grad_fn=<SelectBackward>)  --->  ILSVRC2012_val_00000665.jpg ------> tensor(65299.2383)\ntensor(4)  ----> tensor(0.1379, grad_fn=<SelectBackward>)  --->  ILSVRC2012_val_00004548.jpg ------> tensor(58441.6523)\ntensor(4)  ----> tensor(0.1746, grad_fn=<SelectBackward>)  --->  ILSVRC2012_val_00004548.png ------> tensor(58458.6836)\ntensor(4)  ----> tensor(0.8463, grad_fn=<SelectBackward>)  --->  ILSVRC2012_val_00002315.png ------> tensor(72393.3672)\ntensor(4)  ----> tensor(0.7326, grad_fn=<SelectBackward>)  --->  ILSVRC2012_val_00002315.jpg ------> tensor(72384.3438)\nn03425413\ntensor(566)  ----> tensor(0.2144, grad_fn=<SelectBackward>)  --->  ILSVRC2012_val_00006434.png ------> tensor(31865.3535)\ntensor(566)  ----> tensor(0.1697, grad_fn=<SelectBackward>)  --->  ILSVRC2012_val_00006434.jpg ------> tensor(31963.2305)\ntensor(566)  ----> tensor(0.2636, grad_fn=<SelectBackward>)  --->  ILSVRC2012_val_00005996.png ------> tensor(78534.6172)\ntensor(751)  ----> tensor(0.1540, grad_fn=<SelectBackward>)  --->  ILSVRC2012_val_00005996.jpg ------> tensor(78549.8516)\ntensor(566)  ----> tensor(0.3134, grad_fn=<SelectBackward>)  --->  ILSVRC2012_val_00006909.png ------> tensor(73664.6094)\ntensor(566)  ----> tensor(0.1431, grad_fn=<SelectBackward>)  --->  ILSVRC2012_val_00006909.jpg ------> tensor(73674.5312)\ntensor(566)  ----> tensor(0.3235, grad_fn=<SelectBackward>)  --->  ILSVRC2012_val_00007186.jpg ------> tensor(75323.8203)\ntensor(566)  ----> tensor(0.4400, grad_fn=<SelectBackward>)  --->  ILSVRC2012_val_00007186.png ------> tensor(75351.3984)\ntensor(566)  ----> tensor(0.3817, grad_fn=<SelectBackward>)  --->  ILSVRC2012_val_00005183.png ------> tensor(70892.2500)\ntensor(566)  ----> tensor(0.2001, grad_fn=<SelectBackward>)  --->  ILSVRC2012_val_00005183.jpg ------> tensor(70874.1406)\ntensor(566)  ----> tensor(0.0712, grad_fn=<SelectBackward>)  --->  ILSVRC2012_val_00009279.png ------> tensor(55519.4180)\ntensor(710)  ----> tensor(0.0867, grad_fn=<SelectBackward>)  --->  ILSVRC2012_val_00009279.jpg ------> tensor(55570.8906)\ntensor(566)  ----> tensor(0.1536, grad_fn=<SelectBackward>)  --->  ILSVRC2012_val_00002049.jpg ------> tensor(65518.4023)\ntensor(566)  ----> tensor(0.1180, grad_fn=<SelectBackward>)  --->  ILSVRC2012_val_00002049.png ------> tensor(65487.6875)\ntensor(566)  ----> tensor(0.1863, grad_fn=<SelectBackward>)  --->  ILSVRC2012_val_00002498.png ------> tensor(51524.0938)\ntensor(566)  ----> tensor(0.1803, grad_fn=<SelectBackward>)  --->  ILSVRC2012_val_00002498.jpg ------> tensor(51518.8203)\nn03888257\ntensor(941)  ----> tensor(0.3633, grad_fn=<SelectBackward>)  --->  ILSVRC2012_val_00002508.jpg ------> tensor(93329.9844)\ntensor(941)  ----> tensor(0.3518, grad_fn=<SelectBackward>)  --->  ILSVRC2012_val_00002508.png ------> tensor(93312.0469)\ntensor(941)  ----> tensor(0.1520, grad_fn=<SelectBackward>)  --->  ILSVRC2012_val_00004745.png ------> tensor(105004.2031)\ntensor(941)  ----> tensor(0.1301, grad_fn=<SelectBackward>)  --->  ILSVRC2012_val_00004745.jpg ------> tensor(104880.8516)\ntensor(941)  ----> tensor(0.6344, grad_fn=<SelectBackward>)  --->  ILSVRC2012_val_00007616.jpg ------> tensor(83263.0781)\ntensor(941)  ----> tensor(0.6148, grad_fn=<SelectBackward>)  --->  ILSVRC2012_val_00007616.png ------> tensor(83262.8516)\ntensor(561)  ----> tensor(0.1851, grad_fn=<SelectBackward>)  --->  ILSVRC2012_val_00009559.jpg ------> tensor(114954.3750)\ntensor(561)  ----> tensor(0.1964, grad_fn=<SelectBackward>)  --->  ILSVRC2012_val_00009559.png ------> tensor(114944.2656)\ntensor(564)  ----> tensor(0.0504, grad_fn=<SelectBackward>)  --->  ILSVRC2012_val_00009593.jpg ------> tensor(74143.4688)\ntensor(564)  ----> tensor(0.1386, grad_fn=<SelectBackward>)  --->  ILSVRC2012_val_00009593.png ------> tensor(74154.4297)\ntensor(941)  ----> tensor(0.8130, grad_fn=<SelectBackward>)  --->  ILSVRC2012_val_00009873.jpg ------> tensor(84650.6016)\ntensor(941)  ----> tensor(0.8803, grad_fn=<SelectBackward>)  --->  ILSVRC2012_val_00009873.png ------> tensor(84641.3125)\ntensor(941)  ----> tensor(0.0834, grad_fn=<SelectBackward>)  --->  ILSVRC2012_val_00002665.jpg ------> tensor(91221.6094)\ntensor(941)  ----> tensor(0.2058, grad_fn=<SelectBackward>)  --->  ILSVRC2012_val_00002665.png ------> tensor(91215.2031)\ntensor(941)  ----> tensor(0.0463, grad_fn=<SelectBackward>)  --->  ILSVRC2012_val_00009269.jpg ------> tensor(68739.6953)\ntensor(711)  ----> tensor(0.0669, grad_fn=<SelectBackward>)  --->  ILSVRC2012_val_00009269.png ------> tensor(68692.8281)\nn03028079\ntensor(700)  ----> tensor(0.2571, grad_fn=<SelectBackward>)  --->  ILSVRC2012_val_00014037.jpg ------> tensor(32374.8633)\ntensor(700)  ----> tensor(0.2040, grad_fn=<SelectBackward>)  --->  ILSVRC2012_val_00014037.png ------> tensor(32365.4375)\ntensor(689)  ----> tensor(0.4818, grad_fn=<SelectBackward>)  --->  ILSVRC2012_val_00009705.jpg ------> tensor(33372.2188)\ntensor(689)  ----> tensor(0.5967, grad_fn=<SelectBackward>)  --->  ILSVRC2012_val_00009705.png ------> tensor(33312.3008)\ntensor(689)  ----> tensor(0.0941, grad_fn=<SelectBackward>)  --->  ILSVRC2012_val_00004939.jpg ------> tensor(57563.4414)\ntensor(689)  ----> tensor(0.4085, grad_fn=<SelectBackward>)  --->  ILSVRC2012_val_00004939.png ------> tensor(57548.2383)\ntensor(684)  ----> tensor(0.0914, grad_fn=<SelectBackward>)  --->  ILSVRC2012_val_00006268.jpg ------> tensor(55619.9336)\ntensor(689)  ----> tensor(0.0942, grad_fn=<SelectBackward>)  --->  ILSVRC2012_val_00006268.png ------> tensor(55612.4141)\ntensor(689)  ----> tensor(0.1119, grad_fn=<SelectBackward>)  --->  ILSVRC2012_val_00005598.jpg ------> tensor(82444.7656)\ntensor(689)  ----> tensor(0.2184, grad_fn=<SelectBackward>)  --->  ILSVRC2012_val_00005598.png ------> tensor(82403.7031)\ntensor(689)  ----> tensor(0.2616, grad_fn=<SelectBackward>)  --->  ILSVRC2012_val_00015155.png ------> tensor(69203.3203)\ntensor(689)  ----> tensor(0.1728, grad_fn=<SelectBackward>)  --->  ILSVRC2012_val_00015155.jpg ------> tensor(69226.3750)\ntensor(690)  ----> tensor(0.1211, grad_fn=<SelectBackward>)  --->  ILSVRC2012_val_00008116.png ------> tensor(48304.7266)\ntensor(690)  ----> tensor(0.1802, grad_fn=<SelectBackward>)  --->  ILSVRC2012_val_00008116.jpg ------> tensor(48296.2734)\ntensor(689)  ----> tensor(0.1527, grad_fn=<SelectBackward>)  --->  ILSVRC2012_val_00005295.png ------> tensor(52686.9141)\ntensor(689)  ----> tensor(0.1174, grad_fn=<SelectBackward>)  --->  ILSVRC2012_val_00005295.jpg ------> tensor(52704.5977)\nn03000684\ntensor(921)  ----> tensor(0.0351, grad_fn=<SelectBackward>)  --->  ILSVRC2012_val_00006578.png ------> tensor(62739.9336)\ntensor(921)  ----> tensor(0.0505, grad_fn=<SelectBackward>)  --->  ILSVRC2012_val_00006578.jpg ------> tensor(62738.1016)\ntensor(579)  ----> tensor(0.0756, grad_fn=<SelectBackward>)  --->  ILSVRC2012_val_00004034.png ------> tensor(58789.3711)\ntensor(381)  ----> tensor(0.0509, grad_fn=<SelectBackward>)  --->  ILSVRC2012_val_00004034.jpg ------> tensor(58852.6172)\ntensor(381)  ----> tensor(0.9450, grad_fn=<SelectBackward>)  --->  ILSVRC2012_val_00000537.png ------> tensor(33931.0156)\ntensor(381)  ----> tensor(0.9127, grad_fn=<SelectBackward>)  --->  ILSVRC2012_val_00000537.jpg ------> tensor(34011.3164)\ntensor(381)  ----> tensor(0.2440, grad_fn=<SelectBackward>)  --->  ILSVRC2012_val_00005506.png ------> tensor(106346.4531)\ntensor(381)  ----> tensor(0.1909, grad_fn=<SelectBackward>)  --->  ILSVRC2012_val_00005506.jpg ------> tensor(106348.5391)\ntensor(381)  ----> tensor(0.0709, grad_fn=<SelectBackward>)  --->  ILSVRC2012_val_00006726.jpg ------> tensor(72126.5547)\ntensor(381)  ----> tensor(0.1928, grad_fn=<SelectBackward>)  --->  ILSVRC2012_val_00006726.png ------> tensor(72118.3125)\ntensor(696)  ----> tensor(0.0318, grad_fn=<SelectBackward>)  --->  ILSVRC2012_val_00009206.jpg ------> tensor(71358.1719)\ntensor(254)  ----> tensor(0.0262, grad_fn=<SelectBackward>)  --->  ILSVRC2012_val_00009206.png ------> tensor(71358.9375)\ntensor(766)  ----> tensor(0.1489, grad_fn=<SelectBackward>)  --->  ILSVRC2012_val_00006043.jpg ------> tensor(70369.2891)\ntensor(921)  ----> tensor(0.1183, grad_fn=<SelectBackward>)  --->  ILSVRC2012_val_00006043.png ------> tensor(70351.6328)\ntensor(381)  ----> tensor(0.7977, grad_fn=<SelectBackward>)  --->  ILSVRC2012_val_00006669.jpg ------> tensor(117722.3047)\ntensor(381)  ----> tensor(0.8317, grad_fn=<SelectBackward>)  --->  ILSVRC2012_val_00006669.png ------> tensor(117735.0859)\nn01440764\ntensor(569)  ----> tensor(0.0401, grad_fn=<SelectBackward>)  --->  ILSVRC2012_val_00003014.jpg ------> tensor(60666.6250)\ntensor(991)  ----> tensor(0.0433, grad_fn=<SelectBackward>)  --->  ILSVRC2012_val_00003014.png ------> tensor(60614.0352)\ntensor(471)  ----> tensor(0.0756, grad_fn=<SelectBackward>)  --->  ILSVRC2012_val_00000293.jpg ------> tensor(75948.2266)\ntensor(488)  ----> tensor(0.0583, grad_fn=<SelectBackward>)  --->  ILSVRC2012_val_00000293.png ------> tensor(75931.4375)\ntensor(448)  ----> tensor(0.6762, grad_fn=<SelectBackward>)  --->  ILSVRC2012_val_00006697.png ------> tensor(54051.1250)\ntensor(448)  ----> tensor(0.7353, grad_fn=<SelectBackward>)  --->  ILSVRC2012_val_00006697.jpg ------> tensor(54068.0508)\ntensor(448)  ----> tensor(0.1406, grad_fn=<SelectBackward>)  --->  ILSVRC2012_val_00009346.jpg ------> tensor(63862.6367)\ntensor(448)  ----> tensor(0.1585, grad_fn=<SelectBackward>)  --->  ILSVRC2012_val_00009346.png ------> tensor(63854.3828)\ntensor(448)  ----> tensor(0.5658, grad_fn=<SelectBackward>)  --->  ILSVRC2012_val_00007197.jpg ------> tensor(64721.8672)\ntensor(448)  ----> tensor(0.2016, grad_fn=<SelectBackward>)  --->  ILSVRC2012_val_00007197.png ------> tensor(64716.4180)\ntensor(448)  ----> tensor(0.3209, grad_fn=<SelectBackward>)  --->  ILSVRC2012_val_00009379.jpg ------> tensor(59952.8984)\ntensor(448)  ----> tensor(0.1487, grad_fn=<SelectBackward>)  --->  ILSVRC2012_val_00009379.png ------> tensor(59967.7266)\ntensor(448)  ----> tensor(0.4716, grad_fn=<SelectBackward>)  --->  ILSVRC2012_val_00009396.png ------> tensor(95792.0156)\ntensor(569)  ----> tensor(0.1182, grad_fn=<SelectBackward>)  --->  ILSVRC2012_val_00002138.png ------> tensor(51615.7656)\nn02979186\ntensor(986)  ----> tensor(0.1486, grad_fn=<SelectBackward>)  --->  ILSVRC2012_val_00003944.png ------> tensor(60155.7266)\ntensor(862)  ----> tensor(0.1350, grad_fn=<SelectBackward>)  --->  ILSVRC2012_val_00009833.png ------> tensor(89986.2500)\ntensor(889)  ----> tensor(0.3040, grad_fn=<SelectBackward>)  --->  ILSVRC2012_val_00000557.png ------> tensor(60346.7969)\ntensor(928)  ----> tensor(0.1544, grad_fn=<SelectBackward>)  --->  ILSVRC2012_val_00009404.png ------> tensor(107644.9766)\ntensor(977)  ----> tensor(0.4082, grad_fn=<SelectBackward>)  --->  ILSVRC2012_val_00002034.png ------> tensor(80150.)\ntensor(977)  ----> tensor(0.2932, grad_fn=<SelectBackward>)  --->  ILSVRC2012_val_00007226.png ------> tensor(96157.5391)\ntensor(928)  ----> tensor(0.1664, grad_fn=<SelectBackward>)  --->  ILSVRC2012_val_00005866.png ------> tensor(122680.0391)\n"
    }
   ],
   "source": [
    "from torchvision import transforms\n",
    "from PIL import Image \n",
    "model.eval()\n",
    "classes = os.listdir(\"../imagenette_new\")\n",
    "for folder in classes :\n",
    "    print(folder)\n",
    "    images = os.listdir(\"../imagenette_new/\" + folder)\n",
    "    for image in images:\n",
    "        train_transforms = transforms.Compose([transforms.Resize(224), transforms.ToTensor()])\n",
    "        img = Image.open(\"../imagenette_new/\" + folder + \"/\" + image)\n",
    "        img = train_transforms(img)\n",
    "        temp = img\n",
    "        img = img.unsqueeze(0)\n",
    "\n",
    "        index = torch.argmax(model(img))\n",
    "        print(index, \" ---->\", model(img)[0][index], \" ---> \", image, \"------>\" ,img.sum())\n",
    "        reverse_transform = transforms.ToPILImage()\n",
    "        temp = reverse_transform(temp)\n",
    "        base_dest_path = \"../imagenette_new/\"\n",
    "        if not os.path.exists(base_dest_path) :\n",
    "            os.mkdir(base_dest_path)\n",
    "        dest_folder = folder\n",
    "        if not os.path.exists(base_dest_path + folder) :\n",
    "            os.mkdir(base_dest_path + folder)\n",
    "        image_path = base_dest_path + folder + \"/\" + image\n",
    "        temp.save(image_path)\n",
    "        mat.append(img.numpy().ravel())"
   ]
  },
  {
   "cell_type": "code",
   "execution_count": 57,
   "metadata": {
    "tags": []
   },
   "outputs": [
    {
     "output_type": "stream",
     "name": "stdout",
     "text": "n03394916\ntensor(347)  ----> tensor(0.0746, grad_fn=<SelectBackward>)  --->  ILSVRC2012_val_00003759.png ------> tensor(68339.7812)\ntensor(347)  ----> tensor(0.0765, grad_fn=<SelectBackward>)  --->  ILSVRC2012_val_00005548.png ------> tensor(25738.6816)\ntensor(347)  ----> tensor(0.2213, grad_fn=<SelectBackward>)  --->  ILSVRC2012_val_00007985.png ------> tensor(46697.1055)\ntensor(347)  ----> tensor(0.5003, grad_fn=<SelectBackward>)  --->  ILSVRC2012_val_00007155.png ------> tensor(25416.3379)\ntensor(346)  ----> tensor(0.8670, grad_fn=<SelectBackward>)  --->  ILSVRC2012_val_00005554.png ------> tensor(19992.6191)\ntensor(346)  ----> tensor(0.1369, grad_fn=<SelectBackward>)  --->  ILSVRC2012_val_00000957.png ------> tensor(25532.0078)\ntensor(348)  ----> tensor(0.1855, grad_fn=<SelectBackward>)  --->  ILSVRC2012_val_00003587.png ------> tensor(68653.9141)\ntensor(347)  ----> tensor(0.0933, grad_fn=<SelectBackward>)  --->  ILSVRC2012_val_00007536.png ------> tensor(34702.4453)\nn03417042\ntensor(279)  ----> tensor(0.2752, grad_fn=<SelectBackward>)  --->  ILSVRC2012_val_00006234.png ------> tensor(70846.0625)\ntensor(279)  ----> tensor(0.8304, grad_fn=<SelectBackward>)  --->  ILSVRC2012_val_00007477.png ------> tensor(56817.4453)\ntensor(279)  ----> tensor(0.1602, grad_fn=<SelectBackward>)  --->  ILSVRC2012_val_00002434.png ------> tensor(86127.1953)\ntensor(279)  ----> tensor(0.2053, grad_fn=<SelectBackward>)  --->  ILSVRC2012_val_00004119.png ------> tensor(67453.2422)\ntensor(279)  ----> tensor(0.8943, grad_fn=<SelectBackward>)  --->  ILSVRC2012_val_00005744.png ------> tensor(40717.0312)\ntensor(279)  ----> tensor(0.7993, grad_fn=<SelectBackward>)  --->  ILSVRC2012_val_00007519.png ------> tensor(97504.5469)\ntensor(279)  ----> tensor(0.3131, grad_fn=<SelectBackward>)  --->  ILSVRC2012_val_00001144.png ------> tensor(80293.4531)\ntensor(282)  ----> tensor(0.0663, grad_fn=<SelectBackward>)  --->  ILSVRC2012_val_00005094.png ------> tensor(72900.7578)\nn03445777\ntensor(791)  ----> tensor(0.8087, grad_fn=<SelectBackward>)  --->  ILSVRC2012_val_00011983.png ------> tensor(20079.4746)\ntensor(791)  ----> tensor(0.7990, grad_fn=<SelectBackward>)  --->  ILSVRC2012_val_00012356.png ------> tensor(90457.6719)\ntensor(791)  ----> tensor(0.3548, grad_fn=<SelectBackward>)  --->  ILSVRC2012_val_00007947.png ------> tensor(60117.6406)\ntensor(914)  ----> tensor(0.0346, grad_fn=<SelectBackward>)  --->  ILSVRC2012_val_00006468.png ------> tensor(97427.4453)\ntensor(840)  ----> tensor(0.0732, grad_fn=<SelectBackward>)  --->  ILSVRC2012_val_00008599.png ------> tensor(46901.9883)\ntensor(791)  ----> tensor(0.8671, grad_fn=<SelectBackward>)  --->  ILSVRC2012_val_00002314.png ------> tensor(56558.8047)\ntensor(791)  ----> tensor(0.8825, grad_fn=<SelectBackward>)  --->  ILSVRC2012_val_00003793.png ------> tensor(95533.4219)\nn02102040\ntensor(4)  ----> tensor(0.2756, grad_fn=<SelectBackward>)  --->  ILSVRC2012_val_00001968.png ------> tensor(49349.3906)\ntensor(4)  ----> tensor(0.2433, grad_fn=<SelectBackward>)  --->  ILSVRC2012_val_00002294.png ------> tensor(48657.6367)\ntensor(4)  ----> tensor(0.4541, grad_fn=<SelectBackward>)  --->  ILSVRC2012_val_00004553.png ------> tensor(81548.6016)\ntensor(4)  ----> tensor(0.5489, grad_fn=<SelectBackward>)  --->  ILSVRC2012_val_00008334.png ------> tensor(64591.4531)\ntensor(4)  ----> tensor(0.2953, grad_fn=<SelectBackward>)  --->  ILSVRC2012_val_00007568.png ------> tensor(52404.4727)\ntensor(4)  ----> tensor(0.3071, grad_fn=<SelectBackward>)  --->  ILSVRC2012_val_00000665.png ------> tensor(65291.7227)\ntensor(4)  ----> tensor(0.1746, grad_fn=<SelectBackward>)  --->  ILSVRC2012_val_00004548.png ------> tensor(58458.6953)\ntensor(4)  ----> tensor(0.8463, grad_fn=<SelectBackward>)  --->  ILSVRC2012_val_00002315.png ------> tensor(72393.3984)\nn03425413\ntensor(566)  ----> tensor(0.2144, grad_fn=<SelectBackward>)  --->  ILSVRC2012_val_00006434.png ------> tensor(31865.2422)\ntensor(566)  ----> tensor(0.2636, grad_fn=<SelectBackward>)  --->  ILSVRC2012_val_00005996.png ------> tensor(78534.7891)\ntensor(566)  ----> tensor(0.3134, grad_fn=<SelectBackward>)  --->  ILSVRC2012_val_00006909.png ------> tensor(73664.6406)\ntensor(566)  ----> tensor(0.4400, grad_fn=<SelectBackward>)  --->  ILSVRC2012_val_00007186.png ------> tensor(75351.3672)\ntensor(566)  ----> tensor(0.3817, grad_fn=<SelectBackward>)  --->  ILSVRC2012_val_00005183.png ------> tensor(70892.2188)\ntensor(566)  ----> tensor(0.0712, grad_fn=<SelectBackward>)  --->  ILSVRC2012_val_00009279.png ------> tensor(55519.3828)\ntensor(566)  ----> tensor(0.1180, grad_fn=<SelectBackward>)  --->  ILSVRC2012_val_00002049.png ------> tensor(65487.5508)\ntensor(566)  ----> tensor(0.1863, grad_fn=<SelectBackward>)  --->  ILSVRC2012_val_00002498.png ------> tensor(51524.1406)\nn03888257\ntensor(941)  ----> tensor(0.3518, grad_fn=<SelectBackward>)  --->  ILSVRC2012_val_00002508.png ------> tensor(93312.1484)\ntensor(941)  ----> tensor(0.1520, grad_fn=<SelectBackward>)  --->  ILSVRC2012_val_00004745.png ------> tensor(105003.7734)\ntensor(941)  ----> tensor(0.6148, grad_fn=<SelectBackward>)  --->  ILSVRC2012_val_00007616.png ------> tensor(83262.7188)\ntensor(561)  ----> tensor(0.1964, grad_fn=<SelectBackward>)  --->  ILSVRC2012_val_00009559.png ------> tensor(114944.1094)\ntensor(564)  ----> tensor(0.1386, grad_fn=<SelectBackward>)  --->  ILSVRC2012_val_00009593.png ------> tensor(74154.3906)\ntensor(941)  ----> tensor(0.8803, grad_fn=<SelectBackward>)  --->  ILSVRC2012_val_00009873.png ------> tensor(84641.2969)\ntensor(941)  ----> tensor(0.2058, grad_fn=<SelectBackward>)  --->  ILSVRC2012_val_00002665.png ------> tensor(91214.7344)\ntensor(711)  ----> tensor(0.0669, grad_fn=<SelectBackward>)  --->  ILSVRC2012_val_00009269.png ------> tensor(68692.7969)\nn03028079\ntensor(700)  ----> tensor(0.2040, grad_fn=<SelectBackward>)  --->  ILSVRC2012_val_00014037.png ------> tensor(32365.4141)\ntensor(689)  ----> tensor(0.5967, grad_fn=<SelectBackward>)  --->  ILSVRC2012_val_00009705.png ------> tensor(33312.1836)\ntensor(689)  ----> tensor(0.4085, grad_fn=<SelectBackward>)  --->  ILSVRC2012_val_00004939.png ------> tensor(57548.2070)\ntensor(689)  ----> tensor(0.0942, grad_fn=<SelectBackward>)  --->  ILSVRC2012_val_00006268.png ------> tensor(55612.3594)\ntensor(689)  ----> tensor(0.2184, grad_fn=<SelectBackward>)  --->  ILSVRC2012_val_00005598.png ------> tensor(82403.9297)\ntensor(689)  ----> tensor(0.2616, grad_fn=<SelectBackward>)  --->  ILSVRC2012_val_00015155.png ------> tensor(69203.3359)\ntensor(690)  ----> tensor(0.1211, grad_fn=<SelectBackward>)  --->  ILSVRC2012_val_00008116.png ------> tensor(48304.7539)\ntensor(689)  ----> tensor(0.1527, grad_fn=<SelectBackward>)  --->  ILSVRC2012_val_00005295.png ------> tensor(52686.8438)\nn03000684\ntensor(921)  ----> tensor(0.0351, grad_fn=<SelectBackward>)  --->  ILSVRC2012_val_00006578.png ------> tensor(62739.8672)\ntensor(579)  ----> tensor(0.0756, grad_fn=<SelectBackward>)  --->  ILSVRC2012_val_00004034.png ------> tensor(58789.3555)\ntensor(381)  ----> tensor(0.9450, grad_fn=<SelectBackward>)  --->  ILSVRC2012_val_00000537.png ------> tensor(33930.9180)\ntensor(381)  ----> tensor(0.2440, grad_fn=<SelectBackward>)  --->  ILSVRC2012_val_00005506.png ------> tensor(106346.3359)\ntensor(381)  ----> tensor(0.1928, grad_fn=<SelectBackward>)  --->  ILSVRC2012_val_00006726.png ------> tensor(72118.2031)\ntensor(254)  ----> tensor(0.0262, grad_fn=<SelectBackward>)  --->  ILSVRC2012_val_00009206.png ------> tensor(71359.)\ntensor(921)  ----> tensor(0.1183, grad_fn=<SelectBackward>)  --->  ILSVRC2012_val_00006043.png ------> tensor(70351.6719)\ntensor(381)  ----> tensor(0.8317, grad_fn=<SelectBackward>)  --->  ILSVRC2012_val_00006669.png ------> tensor(117734.9688)\nn01440764\ntensor(991)  ----> tensor(0.0433, grad_fn=<SelectBackward>)  --->  ILSVRC2012_val_00003014.png ------> tensor(60613.9609)\ntensor(488)  ----> tensor(0.0583, grad_fn=<SelectBackward>)  --->  ILSVRC2012_val_00000293.png ------> tensor(75931.4141)\ntensor(448)  ----> tensor(0.6762, grad_fn=<SelectBackward>)  --->  ILSVRC2012_val_00006697.png ------> tensor(54051.1484)\ntensor(448)  ----> tensor(0.1585, grad_fn=<SelectBackward>)  --->  ILSVRC2012_val_00009346.png ------> tensor(63854.3750)\ntensor(448)  ----> tensor(0.2016, grad_fn=<SelectBackward>)  --->  ILSVRC2012_val_00007197.png ------> tensor(64716.4219)\ntensor(448)  ----> tensor(0.1487, grad_fn=<SelectBackward>)  --->  ILSVRC2012_val_00009379.png ------> tensor(59967.7031)\ntensor(448)  ----> tensor(0.4716, grad_fn=<SelectBackward>)  --->  ILSVRC2012_val_00009396.png ------> tensor(95791.9922)\ntensor(569)  ----> tensor(0.1182, grad_fn=<SelectBackward>)  --->  ILSVRC2012_val_00002138.png ------> tensor(51615.8359)\nn02979186\ntensor(986)  ----> tensor(0.1486, grad_fn=<SelectBackward>)  --->  ILSVRC2012_val_00003944.png ------> tensor(60155.6875)\ntensor(862)  ----> tensor(0.1350, grad_fn=<SelectBackward>)  --->  ILSVRC2012_val_00009833.png ------> tensor(89986.1094)\ntensor(889)  ----> tensor(0.3040, grad_fn=<SelectBackward>)  --->  ILSVRC2012_val_00000557.png ------> tensor(60346.8125)\ntensor(928)  ----> tensor(0.1544, grad_fn=<SelectBackward>)  --->  ILSVRC2012_val_00009404.png ------> tensor(107644.3906)\ntensor(977)  ----> tensor(0.4082, grad_fn=<SelectBackward>)  --->  ILSVRC2012_val_00002034.png ------> tensor(80149.5625)\ntensor(977)  ----> tensor(0.2932, grad_fn=<SelectBackward>)  --->  ILSVRC2012_val_00007226.png ------> tensor(96157.5547)\ntensor(928)  ----> tensor(0.1664, grad_fn=<SelectBackward>)  --->  ILSVRC2012_val_00005866.png ------> tensor(122679.9766)\n"
    }
   ],
   "source": [
    "from torchvision import transforms\n",
    "from PIL import Image \n",
    "model.eval()\n",
    "classes = os.listdir(\"../imagenette-test\")\n",
    "for folder in classes :\n",
    "    print(folder)\n",
    "    images = os.listdir(\"../imagenette_new/\" + folder)\n",
    "    for image in images:\n",
    "        if image[-4:] != \".png\" :\n",
    "            continue\n",
    "        train_transforms = transforms.Compose([transforms.ToTensor()])\n",
    "        img = Image.open(\"../imagenette_new/\" + folder + \"/\" + image)\n",
    "        img_np = np.asanyarray(img, dtype = np.uint8)\n",
    "        img_np = (img_np) / 255.0\n",
    "        img = train_transforms(img_np)\n",
    "        img = img.unsqueeze(0)\n",
    "        img = img.float()\n",
    "        index = torch.argmax(model(img))\n",
    "        print(index, \" ---->\", model(img)[0][index], \" ---> \", image, \"------>\" ,img.sum())"
   ]
  },
  {
   "cell_type": "code",
   "execution_count": 56,
   "metadata": {
    "tags": []
   },
   "outputs": [
    {
     "output_type": "stream",
     "name": "stdout",
     "text": "n03394916\ntensor(347)  ----> tensor(0.0746, grad_fn=<SelectBackward>)  --->  ILSVRC2012_val_00003759.jpg ------> tensor(68339.8203)\ntensor(347)  ----> tensor(0.0765, grad_fn=<SelectBackward>)  --->  ILSVRC2012_val_00005548.jpg ------> tensor(25738.9199)\ntensor(347)  ----> tensor(0.2213, grad_fn=<SelectBackward>)  --->  ILSVRC2012_val_00007985.jpg ------> tensor(46697.1094)\ntensor(346)  ----> tensor(0.8670, grad_fn=<SelectBackward>)  --->  ILSVRC2012_val_00005554.jpg ------> tensor(19992.7109)\ntensor(347)  ----> tensor(0.5003, grad_fn=<SelectBackward>)  --->  ILSVRC2012_val_00007155.jpg ------> tensor(25416.3613)\ntensor(346)  ----> tensor(0.1369, grad_fn=<SelectBackward>)  --->  ILSVRC2012_val_00000957.jpg ------> tensor(25532.3027)\ntensor(348)  ----> tensor(0.1855, grad_fn=<SelectBackward>)  --->  ILSVRC2012_val_00003587.jpg ------> tensor(68653.9297)\ntensor(347)  ----> tensor(0.0933, grad_fn=<SelectBackward>)  --->  ILSVRC2012_val_00007536.jpg ------> tensor(34702.4531)\nn03417042\ntensor(279)  ----> tensor(0.2752, grad_fn=<SelectBackward>)  --->  ILSVRC2012_val_00006234.jpg ------> tensor(70846.1562)\ntensor(279)  ----> tensor(0.8304, grad_fn=<SelectBackward>)  --->  ILSVRC2012_val_00007477.jpg ------> tensor(56817.3164)\ntensor(279)  ----> tensor(0.1602, grad_fn=<SelectBackward>)  --->  ILSVRC2012_val_00002434.jpg ------> tensor(86127.0391)\ntensor(279)  ----> tensor(0.2053, grad_fn=<SelectBackward>)  --->  ILSVRC2012_val_00004119.jpg ------> tensor(67453.3125)\ntensor(279)  ----> tensor(0.8943, grad_fn=<SelectBackward>)  --->  ILSVRC2012_val_00005744.jpg ------> tensor(40716.9531)\ntensor(279)  ----> tensor(0.7993, grad_fn=<SelectBackward>)  --->  ILSVRC2012_val_00007519.jpg ------> tensor(97504.8203)\ntensor(279)  ----> tensor(0.3131, grad_fn=<SelectBackward>)  --->  ILSVRC2012_val_00001144.jpg ------> tensor(80293.3594)\ntensor(282)  ----> tensor(0.0663, grad_fn=<SelectBackward>)  --->  ILSVRC2012_val_00005094.jpg ------> tensor(72900.7188)\nn03445777\ntensor(791)  ----> tensor(0.8087, grad_fn=<SelectBackward>)  --->  ILSVRC2012_val_00011983.jpg ------> tensor(20079.3555)\ntensor(791)  ----> tensor(0.7990, grad_fn=<SelectBackward>)  --->  ILSVRC2012_val_00012356.jpg ------> tensor(90457.7188)\ntensor(791)  ----> tensor(0.3548, grad_fn=<SelectBackward>)  --->  ILSVRC2012_val_00007947.jpg ------> tensor(60117.6250)\ntensor(914)  ----> tensor(0.0346, grad_fn=<SelectBackward>)  --->  ILSVRC2012_val_00006468.jpg ------> tensor(97427.3516)\ntensor(840)  ----> tensor(0.0732, grad_fn=<SelectBackward>)  --->  ILSVRC2012_val_00008599.jpg ------> tensor(46901.8984)\ntensor(791)  ----> tensor(0.8825, grad_fn=<SelectBackward>)  --->  ILSVRC2012_val_00003793.jpg ------> tensor(95533.5078)\ntensor(791)  ----> tensor(0.8671, grad_fn=<SelectBackward>)  --->  ILSVRC2012_val_00002314.jpg ------> tensor(56558.8320)\nn02102040\ntensor(4)  ----> tensor(0.2756, grad_fn=<SelectBackward>)  --->  ILSVRC2012_val_00001968.jpg ------> tensor(49349.4062)\ntensor(4)  ----> tensor(0.2433, grad_fn=<SelectBackward>)  --->  ILSVRC2012_val_00002294.jpg ------> tensor(48657.7344)\ntensor(4)  ----> tensor(0.4541, grad_fn=<SelectBackward>)  --->  ILSVRC2012_val_00004553.jpg ------> tensor(81548.3203)\ntensor(4)  ----> tensor(0.5489, grad_fn=<SelectBackward>)  --->  ILSVRC2012_val_00008334.jpg ------> tensor(64591.5469)\ntensor(4)  ----> tensor(0.2953, grad_fn=<SelectBackward>)  --->  ILSVRC2012_val_00007568.jpg ------> tensor(52404.4570)\ntensor(4)  ----> tensor(0.3071, grad_fn=<SelectBackward>)  --->  ILSVRC2012_val_00000665.jpg ------> tensor(65291.7422)\ntensor(4)  ----> tensor(0.1746, grad_fn=<SelectBackward>)  --->  ILSVRC2012_val_00004548.jpg ------> tensor(58458.6836)\ntensor(4)  ----> tensor(0.8463, grad_fn=<SelectBackward>)  --->  ILSVRC2012_val_00002315.jpg ------> tensor(72393.3672)\nn03425413\ntensor(566)  ----> tensor(0.2144, grad_fn=<SelectBackward>)  --->  ILSVRC2012_val_00006434.jpg ------> tensor(31865.3535)\ntensor(566)  ----> tensor(0.2636, grad_fn=<SelectBackward>)  --->  ILSVRC2012_val_00005996.jpg ------> tensor(78534.6172)\ntensor(566)  ----> tensor(0.3134, grad_fn=<SelectBackward>)  --->  ILSVRC2012_val_00006909.jpg ------> tensor(73664.6094)\ntensor(566)  ----> tensor(0.4400, grad_fn=<SelectBackward>)  --->  ILSVRC2012_val_00007186.jpg ------> tensor(75351.3984)\ntensor(566)  ----> tensor(0.3817, grad_fn=<SelectBackward>)  --->  ILSVRC2012_val_00005183.jpg ------> tensor(70892.2500)\ntensor(566)  ----> tensor(0.0712, grad_fn=<SelectBackward>)  --->  ILSVRC2012_val_00009279.jpg ------> tensor(55519.4180)\ntensor(566)  ----> tensor(0.1180, grad_fn=<SelectBackward>)  --->  ILSVRC2012_val_00002049.jpg ------> tensor(65487.6875)\ntensor(566)  ----> tensor(0.1863, grad_fn=<SelectBackward>)  --->  ILSVRC2012_val_00002498.jpg ------> tensor(51524.0938)\nn03888257\ntensor(941)  ----> tensor(0.3518, grad_fn=<SelectBackward>)  --->  ILSVRC2012_val_00002508.jpg ------> tensor(93312.0469)\ntensor(941)  ----> tensor(0.1520, grad_fn=<SelectBackward>)  --->  ILSVRC2012_val_00004745.jpg ------> tensor(105004.2031)\ntensor(941)  ----> tensor(0.6148, grad_fn=<SelectBackward>)  --->  ILSVRC2012_val_00007616.jpg ------> tensor(83262.8516)\ntensor(561)  ----> tensor(0.1964, grad_fn=<SelectBackward>)  --->  ILSVRC2012_val_00009559.jpg ------> tensor(114944.2656)\ntensor(564)  ----> tensor(0.1386, grad_fn=<SelectBackward>)  --->  ILSVRC2012_val_00009593.jpg ------> tensor(74154.4297)\ntensor(941)  ----> tensor(0.8803, grad_fn=<SelectBackward>)  --->  ILSVRC2012_val_00009873.jpg ------> tensor(84641.3125)\ntensor(941)  ----> tensor(0.2058, grad_fn=<SelectBackward>)  --->  ILSVRC2012_val_00002665.jpg ------> tensor(91215.2031)\ntensor(711)  ----> tensor(0.0669, grad_fn=<SelectBackward>)  --->  ILSVRC2012_val_00009269.jpg ------> tensor(68692.8281)\nn03028079\ntensor(700)  ----> tensor(0.2040, grad_fn=<SelectBackward>)  --->  ILSVRC2012_val_00014037.jpg ------> tensor(32365.4375)\ntensor(689)  ----> tensor(0.5967, grad_fn=<SelectBackward>)  --->  ILSVRC2012_val_00009705.jpg ------> tensor(33312.3008)\ntensor(689)  ----> tensor(0.4085, grad_fn=<SelectBackward>)  --->  ILSVRC2012_val_00004939.jpg ------> tensor(57548.2383)\ntensor(689)  ----> tensor(0.0942, grad_fn=<SelectBackward>)  --->  ILSVRC2012_val_00006268.jpg ------> tensor(55612.4141)\ntensor(689)  ----> tensor(0.2184, grad_fn=<SelectBackward>)  --->  ILSVRC2012_val_00005598.jpg ------> tensor(82403.7031)\ntensor(689)  ----> tensor(0.2616, grad_fn=<SelectBackward>)  --->  ILSVRC2012_val_00015155.jpg ------> tensor(69203.3203)\ntensor(690)  ----> tensor(0.1211, grad_fn=<SelectBackward>)  --->  ILSVRC2012_val_00008116.jpg ------> tensor(48304.7266)\ntensor(689)  ----> tensor(0.1527, grad_fn=<SelectBackward>)  --->  ILSVRC2012_val_00005295.jpg ------> tensor(52686.9141)\nn03000684\ntensor(921)  ----> tensor(0.0351, grad_fn=<SelectBackward>)  --->  ILSVRC2012_val_00006578.jpg ------> tensor(62739.9336)\ntensor(579)  ----> tensor(0.0756, grad_fn=<SelectBackward>)  --->  ILSVRC2012_val_00004034.jpg ------> tensor(58789.3711)\ntensor(381)  ----> tensor(0.9450, grad_fn=<SelectBackward>)  --->  ILSVRC2012_val_00000537.jpg ------> tensor(33931.0156)\ntensor(381)  ----> tensor(0.2440, grad_fn=<SelectBackward>)  --->  ILSVRC2012_val_00005506.jpg ------> tensor(106346.4531)\ntensor(381)  ----> tensor(0.1928, grad_fn=<SelectBackward>)  --->  ILSVRC2012_val_00006726.jpg ------> tensor(72118.3125)\ntensor(254)  ----> tensor(0.0262, grad_fn=<SelectBackward>)  --->  ILSVRC2012_val_00009206.jpg ------> tensor(71358.9375)\ntensor(921)  ----> tensor(0.1183, grad_fn=<SelectBackward>)  --->  ILSVRC2012_val_00006043.jpg ------> tensor(70351.6328)\ntensor(381)  ----> tensor(0.8317, grad_fn=<SelectBackward>)  --->  ILSVRC2012_val_00006669.jpg ------> tensor(117735.0859)\nn01440764\ntensor(991)  ----> tensor(0.0433, grad_fn=<SelectBackward>)  --->  ILSVRC2012_val_00003014.jpg ------> tensor(60614.0352)\ntensor(488)  ----> tensor(0.0583, grad_fn=<SelectBackward>)  --->  ILSVRC2012_val_00000293.jpg ------> tensor(75931.4375)\ntensor(448)  ----> tensor(0.6762, grad_fn=<SelectBackward>)  --->  ILSVRC2012_val_00006697.jpg ------> tensor(54051.1250)\ntensor(448)  ----> tensor(0.1585, grad_fn=<SelectBackward>)  --->  ILSVRC2012_val_00009346.jpg ------> tensor(63854.3828)\ntensor(448)  ----> tensor(0.2016, grad_fn=<SelectBackward>)  --->  ILSVRC2012_val_00007197.jpg ------> tensor(64716.4180)\ntensor(448)  ----> tensor(0.1487, grad_fn=<SelectBackward>)  --->  ILSVRC2012_val_00009379.jpg ------> tensor(59967.7266)\ntensor(448)  ----> tensor(0.4716, grad_fn=<SelectBackward>)  --->  ILSVRC2012_val_00009396.jpg ------> tensor(95792.0156)\ntensor(569)  ----> tensor(0.1182, grad_fn=<SelectBackward>)  --->  ILSVRC2012_val_00002138.jpg ------> tensor(51615.7656)\nn02979186\ntensor(986)  ----> tensor(0.1486, grad_fn=<SelectBackward>)  --->  ILSVRC2012_val_00003944.jpg ------> tensor(60155.7266)\ntensor(862)  ----> tensor(0.1350, grad_fn=<SelectBackward>)  --->  ILSVRC2012_val_00009833.jpg ------> tensor(89986.2500)\ntensor(889)  ----> tensor(0.3040, grad_fn=<SelectBackward>)  --->  ILSVRC2012_val_00000557.jpg ------> tensor(60346.7969)\ntensor(928)  ----> tensor(0.1544, grad_fn=<SelectBackward>)  --->  ILSVRC2012_val_00009404.jpg ------> tensor(107644.9766)\ntensor(977)  ----> tensor(0.4082, grad_fn=<SelectBackward>)  --->  ILSVRC2012_val_00002034.jpg ------> tensor(80150.)\ntensor(977)  ----> tensor(0.2932, grad_fn=<SelectBackward>)  --->  ILSVRC2012_val_00007226.jpg ------> tensor(96157.5391)\ntensor(928)  ----> tensor(0.1664, grad_fn=<SelectBackward>)  --->  ILSVRC2012_val_00005866.jpg ------> tensor(122680.0391)\n"
    }
   ],
   "source": [
    "from torchvision import transforms\n",
    "from PIL import Image \n",
    "model.eval()\n",
    "classes = os.listdir(\"../imagenette-test\")\n",
    "for folder in classes :\n",
    "    print(folder)\n",
    "    images = os.listdir(\"../imagenette-test/\" + folder)\n",
    "    for image in images:\n",
    "        train_transforms = transforms.Compose([transforms.Resize(224), transforms.ToTensor()])\n",
    "        img = Image.open(\"../imagenette-test/\" + folder + \"/\" + image)\n",
    "        img = train_transforms(img)\n",
    "        img = img.unsqueeze(0)\n",
    "        img = img.float()\n",
    "        index = torch.argmax(model(img))\n",
    "        print(index, \" ---->\", model(img)[0][index], \" ---> \", image, \"------>\" ,img.sum())"
   ]
  },
  {
   "cell_type": "code",
   "execution_count": null,
   "metadata": {},
   "outputs": [],
   "source": []
  }
 ],
 "metadata": {
  "language_info": {
   "codemirror_mode": {
    "name": "ipython",
    "version": 3
   },
   "file_extension": ".py",
   "mimetype": "text/x-python",
   "name": "python",
   "nbconvert_exporter": "python",
   "pygments_lexer": "ipython3",
   "version": "3.7.8-final"
  },
  "orig_nbformat": 2,
  "kernelspec": {
   "name": "python_defaultSpec_1597048413427",
   "display_name": "Python 3.7.8 64-bit"
  }
 },
 "nbformat": 4,
 "nbformat_minor": 2
}